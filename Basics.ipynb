{
 "cells": [
  {
   "cell_type": "markdown",
   "metadata": {},
   "source": [
    "## Birth Dates in the US\n",
    "The raw data behind the story **Some People Are Too \n",
    "Superstitious To Have A Baby On Friday The 13th,**\n",
    "which you can read [here](https://fivethirtyeight.com/features/some-people-are-too-superstitious-to-have-a-baby-on-friday-the-13th/)\n",
    "\n",
    "The data set has the following structure:\n",
    "- `year` - Year\n",
    "- `month` - Month\n",
    "- `date_of_month` - Day number of the month\n",
    "- `day_of_week` - Day of week, where 1 is Monday & 7 is Sunday\n",
    "- `births` - Number of births"
   ]
  },
  {
   "cell_type": "code",
   "execution_count": 1,
   "metadata": {
    "collapsed": true
   },
   "outputs": [],
   "source": [
    "file = open(\"US_births_1994-2003_CDC_NCHS.csv\", 'r')\n",
    "text = file.read()"
   ]
  },
  {
   "cell_type": "code",
   "execution_count": 2,
   "metadata": {
    "collapsed": true
   },
   "outputs": [],
   "source": [
    "formattedText = text.split(\"\\n\")"
   ]
  },
  {
   "cell_type": "code",
   "execution_count": 3,
   "metadata": {
    "collapsed": true
   },
   "outputs": [
    {
     "data": {
      "text/plain": [
       "['year,month,date_of_month,day_of_week,births',\n '1994,1,1,6,8096',\n '1994,1,2,7,7772',\n '1994,1,3,1,10142',\n '1994,1,4,2,11248',\n '1994,1,5,3,11053',\n '1994,1,6,4,11406',\n '1994,1,7,5,11251',\n '1994,1,8,6,8653',\n '1994,1,9,7,7910']"
      ]
     },
     "execution_count": 3,
     "metadata": {},
     "output_type": "execute_result"
    }
   ],
   "source": [
    "formattedText[0:10]"
   ]
  },
  {
   "cell_type": "code",
   "execution_count": 4,
   "metadata": {
    "collapsed": true
   },
   "outputs": [
    {
     "data": {
      "text/plain": [
       "[[1994, 1, 1, 6, 8096],\n [1994, 1, 2, 7, 7772],\n [1994, 1, 3, 1, 10142],\n [1994, 1, 4, 2, 11248],\n [1994, 1, 5, 3, 11053],\n [1994, 1, 6, 4, 11406],\n [1994, 1, 7, 5, 11251],\n [1994, 1, 8, 6, 8653],\n [1994, 1, 9, 7, 7910],\n [1994, 1, 10, 1, 10498]]"
      ]
     },
     "execution_count": 4,
     "metadata": {},
     "output_type": "execute_result"
    }
   ],
   "source": [
    "# read the csv file given, format it accordingly, cast string fields\n",
    "# to int, append these to a final list, return the resulting list\n",
    "def read_csv(input):\n",
    "    file = open(input, \"r\")\n",
    "    string = file.read()\n",
    "    line = string.split(\"\\n\")\n",
    "    string_list = line[1:len(line)]\n",
    "    final_list = []\n",
    "    for item in string_list:\n",
    "        int_fields = []\n",
    "        string_fields = item.split(\",\")\n",
    "        for field in string_fields:\n",
    "            int_fields.append(int(field))\n",
    "        final_list.append(int_fields)\n",
    "    return final_list\n",
    "\n",
    "cdc_list = read_csv(\"US_births_1994-2003_CDC_NCHS.csv\")\n",
    "cdc_list[0:10]          "
   ]
  },
  {
   "cell_type": "code",
   "execution_count": 5,
   "metadata": {
    "collapsed": true
   },
   "outputs": [
    {
     "data": {
      "text/plain": [
       "{1: 3232517,\n 2: 3018140,\n 3: 3322069,\n 4: 3185314,\n 5: 3350907,\n 6: 3296530,\n 7: 3498783,\n 8: 3525858,\n 9: 3439698,\n 10: 3378814,\n 11: 3171647,\n 12: 3301860}"
      ]
     },
     "execution_count": 5,
     "metadata": {},
     "output_type": "execute_result"
    }
   ],
   "source": [
    "# return a dictionary that stores monthly total of births\n",
    "def month_births(list):\n",
    "    births_per_month = {}\n",
    "    for item in list:\n",
    "        month = item[1]\n",
    "        births = item[4]\n",
    "        if month in births_per_month:\n",
    "            births_per_month[month] += births\n",
    "        else:\n",
    "            births_per_month[month] = births\n",
    "    return births_per_month\n",
    "\n",
    "cdc_month_births = month_births(cdc_list)\n",
    "cdc_month_births"
   ]
  },
  {
   "cell_type": "code",
   "execution_count": 6,
   "metadata": {
    "collapsed": true
   },
   "outputs": [
    {
     "data": {
      "text/plain": [
       "{1: 5789166,\n 2: 6446196,\n 3: 6322855,\n 4: 6288429,\n 5: 6233657,\n 6: 4562111,\n 7: 4079723}"
      ]
     },
     "execution_count": 6,
     "metadata": {},
     "output_type": "execute_result"
    }
   ],
   "source": [
    "# return a dictionary that stores total number of births for each day \n",
    "def dow_births(list):\n",
    "    births_per_day = {}\n",
    "    for item in list:\n",
    "        day = item[3]\n",
    "        births = item[4]\n",
    "        if day in births_per_day:\n",
    "            births_per_day[day] += births\n",
    "        else:\n",
    "            births_per_day[day] = births\n",
    "    return births_per_day\n",
    "\n",
    "cdc_day_births = dow_births(cdc_list)\n",
    "cdc_day_births    "
   ]
  },
  {
   "cell_type": "code",
   "execution_count": 7,
   "metadata": {
    "collapsed": true
   },
   "outputs": [],
   "source": [
    "# return a dictionary containing the total number of births\n",
    "# for each unique value in a specific column\n",
    "def calc_counts(data,column):\n",
    "    births_for_column = {}\n",
    "    for item in data:\n",
    "        key = item[column]\n",
    "        births = item[4]\n",
    "        if key in births_for_column:\n",
    "            births_for_column[key] += births\n",
    "        else:\n",
    "            births_for_column[key] = births\n",
    "    return births_for_column\n",
    "\n",
    "cdc_year_births = calc_counts(cdc_list,0)\n",
    "cdc_month_births = calc_counts(cdc_list,1)\n",
    "cdc_dom_births = calc_counts(cdc_list,2)\n",
    "cdc_dow_births = calc_counts(cdc_list,3)  "
   ]
  },
  {
   "cell_type": "code",
   "execution_count": 8,
   "metadata": {
    "collapsed": true
   },
   "outputs": [
    {
     "name": "stdout",
     "output_type": "stream",
     "text": [
      "Yearly births\n{1994: 3952767, 1995: 3899589, 1996: 3891494, 1997: 3880894, 1998: 3941553, 1999: 3959417, 2000: 4058814, 2001: 4025933, 2002: 4021726, 2003: 4089950}\n"
     ]
    }
   ],
   "source": [
    "print(\"Yearly births\")\n",
    "print(cdc_year_births)"
   ]
  },
  {
   "cell_type": "code",
   "execution_count": 9,
   "metadata": {
    "collapsed": true
   },
   "outputs": [
    {
     "name": "stdout",
     "output_type": "stream",
     "text": [
      "Monthly births\n{1: 3232517, 2: 3018140, 3: 3322069, 4: 3185314, 5: 3350907, 6: 3296530, 7: 3498783, 8: 3525858, 9: 3439698, 10: 3378814, 11: 3171647, 12: 3301860}\n"
     ]
    }
   ],
   "source": [
    "\n",
    "print(\"Monthly births\")\n",
    "print(cdc_month_births)"
   ]
  },
  {
   "cell_type": "code",
   "execution_count": 10,
   "metadata": {
    "collapsed": true
   },
   "outputs": [
    {
     "name": "stdout",
     "output_type": "stream",
     "text": [
      "Births for each day of month\n{1: 1276557, 2: 1288739, 3: 1304499, 4: 1288154, 5: 1299953, 6: 1304474, 7: 1310459, 8: 1312297, 9: 1303292, 10: 1320764, 11: 1314361, 12: 1318437, 13: 1277684, 14: 1320153, 15: 1319171, 16: 1315192, 17: 1324953, 18: 1326855, 19: 1318727, 20: 1324821, 21: 1322897, 22: 1317381, 23: 1293290, 24: 1288083, 25: 1272116, 26: 1284796, 27: 1294395, 28: 1307685, 29: 1223161, 30: 1202095, 31: 746696}\n"
     ]
    }
   ],
   "source": [
    "print(\"Births for each day of month\")\n",
    "print(cdc_dom_births)"
   ]
  },
  {
   "cell_type": "code",
   "execution_count": 11,
   "metadata": {
    "collapsed": true
   },
   "outputs": [
    {
     "name": "stdout",
     "output_type": "stream",
     "text": [
      "Births for each day of week\n{6: 4562111, 7: 4079723, 1: 5789166, 2: 6446196, 3: 6322855, 4: 6288429, 5: 6233657}\n"
     ]
    }
   ],
   "source": [
    "print(\"Births for each day of week\")\n",
    "print(cdc_dow_births)"
   ]
  },
  {
   "cell_type": "code",
   "execution_count": 12,
   "metadata": {},
   "outputs": [],
   "source": [
    "# calculate the min & max values for a dictionary given,\n",
    "# return these in another dictionary\n",
    "def calc_min_max(input_dict):\n",
    "    dict = {}\n",
    "    first_key = list(input_dict.keys())[0]\n",
    "    min = input_dict[first_key]\n",
    "    max = input_dict[first_key]\n",
    "    for key, value in input_dict.items():\n",
    "        if value < min:\n",
    "            min = value\n",
    "            dict[\"min\"] = min\n",
    "            dict[\"min_key\"] = key\n",
    "        if value > max:\n",
    "            max = value\n",
    "            dict[\"max\"] = max\n",
    "            dict[\"max_key\"] = key\n",
    "    return dict"
   ]
  },
  {
   "cell_type": "code",
   "execution_count": 13,
   "metadata": {},
   "outputs": [
    {
     "data": {
      "text/plain": [
       "{'max': 4089950, 'max_key': 2003, 'min': 3880894, 'min_key': 1997}"
      ]
     },
     "execution_count": 13,
     "metadata": {},
     "output_type": "execute_result"
    }
   ],
   "source": [
    "# min & max values for yearly births\n",
    "min_max_yearly = calc_min_max(cdc_year_births)\n",
    "min_max_yearly   "
   ]
  },
  {
   "cell_type": "code",
   "execution_count": 14,
   "metadata": {},
   "outputs": [
    {
     "data": {
      "text/plain": [
       "{'max': 3525858, 'max_key': 8, 'min': 3018140, 'min_key': 2}"
      ]
     },
     "execution_count": 14,
     "metadata": {},
     "output_type": "execute_result"
    }
   ],
   "source": [
    "# min & max values for monthly births\n",
    "min_max_monthly = calc_min_max(cdc_month_births)\n",
    "min_max_monthly"
   ]
  },
  {
   "cell_type": "code",
   "execution_count": 15,
   "metadata": {},
   "outputs": [
    {
     "data": {
      "text/plain": [
       "{'max': 1326855, 'max_key': 18, 'min': 746696, 'min_key': 31}"
      ]
     },
     "execution_count": 15,
     "metadata": {},
     "output_type": "execute_result"
    }
   ],
   "source": [
    "# min & max values for births on each day day of month\n",
    "min_max_dom = calc_min_max(cdc_dom_births)\n",
    "min_max_dom"
   ]
  },
  {
   "cell_type": "code",
   "execution_count": 16,
   "metadata": {},
   "outputs": [
    {
     "data": {
      "text/plain": [
       "{'max': 6446196, 'max_key': 2, 'min': 4079723, 'min_key': 7}"
      ]
     },
     "execution_count": 16,
     "metadata": {},
     "output_type": "execute_result"
    }
   ],
   "source": [
    "# min & max values for births on each day of week\n",
    "min_max_dow = calc_min_max(cdc_day_births)\n",
    "min_max_dow"
   ]
  },
  {
   "cell_type": "code",
   "execution_count": null,
   "metadata": {},
   "outputs": [],
   "source": []
  }
 ],
 "metadata": {
  "anaconda-cloud": {},
  "kernelspec": {
   "display_name": "Python 3",
   "language": "python",
   "name": "python3"
  },
  "language_info": {
   "codemirror_mode": {
    "name": "ipython",
    "version": 3
   },
   "file_extension": ".py",
   "mimetype": "text/x-python",
   "name": "python",
   "nbconvert_exporter": "python",
   "pygments_lexer": "ipython3",
   "version": "3.4.3"
  }
 },
 "nbformat": 4,
 "nbformat_minor": 1
}
